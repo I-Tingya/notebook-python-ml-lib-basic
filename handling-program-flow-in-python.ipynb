{
 "cells": [
  {
   "cell_type": "code",
   "execution_count": 1,
   "metadata": {},
   "outputs": [
    {
     "name": "stdout",
     "output_type": "stream",
     "text": [
      "number is positive\n"
     ]
    }
   ],
   "source": [
    "#if-elif-else\n",
    "a = 5\n",
    "if a>0:\n",
    "    print('number is negative')\n",
    "else:\n",
    "    print('number is positive')\n",
    "elif a<0:\n",
    "    print('number is zero')"
   ]
  },
  {
   "cell_type": "code",
   "execution_count": 6,
   "metadata": {},
   "outputs": [
    {
     "name": "stdout",
     "output_type": "stream",
     "text": [
      "5\n",
      "4\n",
      "3\n",
      "2\n"
     ]
    }
   ],
   "source": [
    "a = 5\n",
    "while a>1:\n",
    "    print(a)\n",
    "    a-=1\n"
   ]
  },
  {
   "cell_type": "code",
   "execution_count": 7,
   "metadata": {},
   "outputs": [
    {
     "name": "stdout",
     "output_type": "stream",
     "text": [
      "1\n",
      "3\n",
      "5\n",
      "7\n",
      "9\n"
     ]
    }
   ],
   "source": [
    "for i in range(1,10,2):\n",
    "    print(i)"
   ]
  },
  {
   "cell_type": "code",
   "execution_count": 9,
   "metadata": {},
   "outputs": [
    {
     "name": "stdout",
     "output_type": "stream",
     "text": [
      "1\n",
      "3\n",
      "5\n",
      "7\n"
     ]
    }
   ],
   "source": [
    "for i in range(1,11):\n",
    "    if i%2==0:\n",
    "        continue\n",
    "    else:\n",
    "        if i>7:\n",
    "            break\n",
    "        print(i)"
   ]
  },
  {
   "cell_type": "code",
   "execution_count": 18,
   "metadata": {},
   "outputs": [
    {
     "name": "stdout",
     "output_type": "stream",
     "text": [
      "Without going to next line start printing..line continues..\n",
      "by default goes on next line\n"
     ]
    }
   ],
   "source": [
    "print('Without going to next line start printing', end ='')\n",
    "print('..line continues..') #default end parameter is /n\n",
    "print('by default goes on next line')"
   ]
  },
  {
   "cell_type": "code",
   "execution_count": 46,
   "metadata": {},
   "outputs": [
    {
     "name": "stdout",
     "output_type": "stream",
     "text": [
      "Hi i just created a text file in pythonHi i just created a text file in pythonHi i just created a text file in pythonHi i just created a text file in pythonHi i just created a text file in python/nHi i just created a text file in python/nHi i just created a text file in python/nHi i just created a text file in python/nHi i just created a text file in python/nHi i just created a text file in python\n",
      "Hi i just created a text file in python\n",
      "Hi i just created a text file in python\n",
      "\n"
     ]
    }
   ],
   "source": [
    "file_ = open('./data/hi_me.txt','a+')\n",
    "file_.write('Hi i just created a text file in python\\n')\n",
    "#read(),readline(),readlines()\n",
    "file_.close()\n",
    "file_ = open('./data/hi_me.txt','r')\n",
    "lines_ = file_.read()\n",
    "file_.close()\n",
    "print(lines_)"
   ]
  },
  {
   "cell_type": "code",
   "execution_count": 49,
   "metadata": {},
   "outputs": [
    {
     "ename": "Exception",
     "evalue": "please enter positive numbers",
     "output_type": "error",
     "traceback": [
      "\u001b[1;31m---------------------------------------------------------------------------\u001b[0m",
      "\u001b[1;31mException\u001b[0m                                 Traceback (most recent call last)",
      "\u001b[1;32m<ipython-input-49-e4300ff33afa>\u001b[0m in \u001b[0;36m<module>\u001b[1;34m()\u001b[0m\n\u001b[0;32m      1\u001b[0m \u001b[0ma\u001b[0m\u001b[1;33m,\u001b[0m\u001b[0mb\u001b[0m\u001b[1;33m=\u001b[0m\u001b[1;36m5\u001b[0m\u001b[1;33m,\u001b[0m\u001b[1;33m-\u001b[0m\u001b[1;36m1\u001b[0m\u001b[1;33m\u001b[0m\u001b[0m\n\u001b[0;32m      2\u001b[0m \u001b[1;32mif\u001b[0m \u001b[0mb\u001b[0m\u001b[1;33m<\u001b[0m\u001b[1;36m0\u001b[0m\u001b[1;33m:\u001b[0m\u001b[1;33m\u001b[0m\u001b[0m\n\u001b[1;32m----> 3\u001b[1;33m     \u001b[1;32mraise\u001b[0m \u001b[0mException\u001b[0m\u001b[1;33m(\u001b[0m\u001b[1;34m'please enter positive numbers'\u001b[0m\u001b[1;33m)\u001b[0m\u001b[1;33m\u001b[0m\u001b[0m\n\u001b[0m\u001b[0;32m      4\u001b[0m \u001b[0mb\u001b[0m\u001b[1;33m=\u001b[0m\u001b[1;36m0\u001b[0m\u001b[1;33m\u001b[0m\u001b[0m\n\u001b[0;32m      5\u001b[0m \u001b[1;32mif\u001b[0m \u001b[0ma\u001b[0m\u001b[1;33m/\u001b[0m\u001b[0mb\u001b[0m\u001b[1;33m==\u001b[0m\u001b[1;36m1\u001b[0m\u001b[1;33m:\u001b[0m\u001b[1;33m\u001b[0m\u001b[0m\n",
      "\u001b[1;31mException\u001b[0m: please enter positive numbers"
     ]
    }
   ],
   "source": [
    "a,b=5,-1\n",
    "if b<0:\n",
    "    raise Exception('please enter positive numbers')\n",
    "\n",
    "    "
   ]
  },
  {
   "cell_type": "code",
   "execution_count": 55,
   "metadata": {},
   "outputs": [
    {
     "name": "stdout",
     "output_type": "stream",
     "text": [
      "ratio is: 5.0\n",
      "this is the last block executed in code ALWAYS\n"
     ]
    }
   ],
   "source": [
    "a,b = 5,1\n",
    "try:\n",
    "    if a/b==1:\n",
    "        print('ratio is one')\n",
    "except ZeroDivisionError: #make b=0 and run\n",
    "    print('denominator is zero')\n",
    "else: #make b other than 0 and 5\n",
    "    print('ratio is: ' + str(a/b))\n",
    "finally:\n",
    "    print('this is the last block executed in code ALWAYS')"
   ]
  },
  {
   "cell_type": "code",
   "execution_count": 39,
   "metadata": {},
   "outputs": [
    {
     "name": "stdout",
     "output_type": "stream",
     "text": [
      "4\n"
     ]
    }
   ],
   "source": [
    "def len_list(a):\n",
    "    return len(a)\n",
    "\n",
    "print(len_list([2,3,4,5]))"
   ]
  },
  {
   "cell_type": "code",
   "execution_count": null,
   "metadata": {},
   "outputs": [],
   "source": []
  },
  {
   "cell_type": "code",
   "execution_count": 6,
   "metadata": {},
   "outputs": [
    {
     "name": "stdout",
     "output_type": "stream",
     "text": [
      "3.0\n"
     ]
    }
   ],
   "source": [
    "def square_rt(a = 9):\n",
    "    print(a**0.5)\n",
    "square_rt()"
   ]
  },
  {
   "cell_type": "code",
   "execution_count": 7,
   "metadata": {},
   "outputs": [
    {
     "name": "stdout",
     "output_type": "stream",
     "text": [
      "(7, 10)\n"
     ]
    }
   ],
   "source": [
    "def sum_mul(a,b):\n",
    "    return a+b, a*b\n",
    "print(sum_mul(2,5))"
   ]
  },
  {
   "cell_type": "code",
   "execution_count": 9,
   "metadata": {},
   "outputs": [
    {
     "data": {
      "text/plain": [
       "6"
      ]
     },
     "execution_count": 9,
     "metadata": {},
     "output_type": "execute_result"
    }
   ],
   "source": [
    "add_using_lambda = lambda a,b: a+b\n",
    "add_using_lambda(3,3)"
   ]
  },
  {
   "cell_type": "code",
   "execution_count": 38,
   "metadata": {},
   "outputs": [
    {
     "name": "stdout",
     "output_type": "stream",
     "text": [
      "[-9, 2, 13, 35, 46, 55, 33]\n"
     ]
    }
   ],
   "source": [
    "def celsius(fah_temp):\n",
    "    return fah_temp - 32\n",
    "week_temps = [23,34,45,67,78,87,65]\n",
    "cel_temps = list(map(celsius, week_temps))\n",
    "#print([val for val in cel_temps])\n",
    "print(cel_temps)"
   ]
  },
  {
   "cell_type": "code",
   "execution_count": 31,
   "metadata": {},
   "outputs": [
    {
     "name": "stdout",
     "output_type": "stream",
     "text": [
      "[[2, 3, 4, 5], [4, 5, 6, 7]]\n",
      "[[1, 2, 3, 4], [3, 4, 5, 6]]\n"
     ]
    }
   ],
   "source": [
    "a = [1,2,3,4]\n",
    "b = [3,4,5,6]\n",
    "c = [a,b]\n",
    "print(list(map(lambda x: list(map(lambda x:x+1, x)),c)))\n",
    "print(list(map(lambda x:x,[a,b])))"
   ]
  },
  {
   "cell_type": "code",
   "execution_count": 56,
   "metadata": {},
   "outputs": [
    {
     "data": {
      "text/plain": [
       "[40, 50]"
      ]
     },
     "execution_count": 56,
     "metadata": {},
     "output_type": "execute_result"
    }
   ],
   "source": [
    "cel_temps = (20, 30, 40, 50)\n",
    "list(filter(lambda x:x>30, cel_temps))"
   ]
  },
  {
   "cell_type": "code",
   "execution_count": 69,
   "metadata": {},
   "outputs": [
    {
     "name": "stdout",
     "output_type": "stream",
     "text": [
      "ab4050\n"
     ]
    }
   ],
   "source": [
    "from functools import reduce\n",
    "cel_temps = ['a','b','40','50']\n",
    "print(reduce(lambda x,y:x+y,cel_temps))"
   ]
  },
  {
   "cell_type": "code",
   "execution_count": 77,
   "metadata": {},
   "outputs": [
    {
     "name": "stdout",
     "output_type": "stream",
     "text": [
      "['False', 'False', 'True']\n"
     ]
    }
   ],
   "source": [
    "list_ = [10,20,30]\n",
    "comprehension_ = []\n",
    "comprehension_ = ['True' if i>20 else 'False' for i in list_]\n",
    "print(comprehension_)"
   ]
  },
  {
   "cell_type": "code",
   "execution_count": null,
   "metadata": {},
   "outputs": [],
   "source": []
  }
 ],
 "metadata": {
  "kernelspec": {
   "display_name": "Python 3",
   "language": "python",
   "name": "python3"
  },
  "language_info": {
   "codemirror_mode": {
    "name": "ipython",
    "version": 3
   },
   "file_extension": ".py",
   "mimetype": "text/x-python",
   "name": "python",
   "nbconvert_exporter": "python",
   "pygments_lexer": "ipython3",
   "version": "3.6.5"
  }
 },
 "nbformat": 4,
 "nbformat_minor": 2
}
