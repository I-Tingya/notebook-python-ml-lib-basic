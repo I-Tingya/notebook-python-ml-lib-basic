{
 "cells": [
  {
   "cell_type": "code",
   "execution_count": 1,
   "metadata": {},
   "outputs": [
    {
     "name": "stdout",
     "output_type": "stream",
     "text": [
      "<class 'str'>\n"
     ]
    }
   ],
   "source": [
    "print (type('Be Awesome'))\n"
   ]
  },
  {
   "cell_type": "code",
   "execution_count": null,
   "metadata": {},
   "outputs": [],
   "source": [
    "\n"
   ]
  },
  {
   "cell_type": "code",
   "execution_count": null,
   "metadata": {},
   "outputs": [],
   "source": []
  },
  {
   "cell_type": "code",
   "execution_count": null,
   "metadata": {},
   "outputs": [],
   "source": []
  },
  {
   "cell_type": "code",
   "execution_count": 2,
   "metadata": {},
   "outputs": [
    {
     "name": "stdout",
     "output_type": "stream",
     "text": [
      "hi\n",
      "me\n"
     ]
    }
   ],
   "source": [
    "s= 'hi'\n",
    "S = 'me'\n",
    "print (s)\n",
    "print (S)\n"
   ]
  },
  {
   "cell_type": "code",
   "execution_count": 13,
   "metadata": {},
   "outputs": [
    {
     "name": "stdout",
     "output_type": "stream",
     "text": [
      "hello world again \n"
     ]
    }
   ],
   "source": [
    "s = \"hello world again and again\"\n",
    "print(s.replace(\" and again\", \" \"))\n"
   ]
  },
  {
   "cell_type": "code",
   "execution_count": 16,
   "metadata": {},
   "outputs": [
    {
     "name": "stdout",
     "output_type": "stream",
     "text": [
      "again\n"
     ]
    }
   ],
   "source": [
    "print(s[-5:])"
   ]
  },
  {
   "cell_type": "code",
   "execution_count": 25,
   "metadata": {},
   "outputs": [
    {
     "name": "stdout",
     "output_type": "stream",
     "text": [
      "Hey me.._\n",
      "Hey me.._..\n",
      "Hey me\n"
     ]
    }
   ],
   "source": [
    "s = \"..Hey me.._..\"\n",
    "print(s.strip(\".\"))\n",
    "print(s.lstrip(\".\"))\n",
    "print(s.strip('.''_'))"
   ]
  },
  {
   "cell_type": "code",
   "execution_count": 24,
   "metadata": {},
   "outputs": [
    {
     "name": "stdout",
     "output_type": "stream",
     "text": [
      "My name is Jayesh and surname is Salvi\n",
      "My name is Jayesh and surname is Salvi\n",
      "My name is {name} and surname is {surname}\n",
      "My name is Jayesh and surname is Salvi\n"
     ]
    }
   ],
   "source": [
    "name = 'Jayesh'\n",
    "surname = 'Salvi'\n",
    "print(\"My name is {} and surname is {}\".format(name,surname))\n",
    "print(\"My name is {a} and surname is {b}\".format(a=name, b=surname))\n",
    "print(\"My name is {name} and surname is {surname}\")\n",
    "# f-strings\n",
    "print(f\"My name is {name} and surname is {surname}\")"
   ]
  },
  {
   "cell_type": "raw",
   "metadata": {},
   "source": [
    "\n",
    "my_string = \"hello\"\n",
    "print(mystring + name)"
   ]
  },
  {
   "cell_type": "code",
   "execution_count": 55,
   "metadata": {},
   "outputs": [
    {
     "name": "stdout",
     "output_type": "stream",
     "text": [
      " heroes are batman and superman\n"
     ]
    }
   ],
   "source": [
    "heroes = ['batman', 'superman']\n",
    "print (f\" heroes are {' and '.join(heroes)}\")\n"
   ]
  },
  {
   "cell_type": "code",
   "execution_count": 58,
   "metadata": {},
   "outputs": [
    {
     "name": "stdout",
     "output_type": "stream",
     "text": [
      "<class 'str'>\n",
      "True\n"
     ]
    }
   ],
   "source": [
    "a = 'hi'\n",
    "print(type(a))\n",
    "print(isinstance(a, str))"
   ]
  },
  {
   "cell_type": "code",
   "execution_count": 59,
   "metadata": {},
   "outputs": [
    {
     "name": "stdout",
     "output_type": "stream",
     "text": [
      "The Zen of Python, by Tim Peters\n",
      "\n",
      "Beautiful is better than ugly.\n",
      "Explicit is better than implicit.\n",
      "Simple is better than complex.\n",
      "Complex is better than complicated.\n",
      "Flat is better than nested.\n",
      "Sparse is better than dense.\n",
      "Readability counts.\n",
      "Special cases aren't special enough to break the rules.\n",
      "Although practicality beats purity.\n",
      "Errors should never pass silently.\n",
      "Unless explicitly silenced.\n",
      "In the face of ambiguity, refuse the temptation to guess.\n",
      "There should be one-- and preferably only one --obvious way to do it.\n",
      "Although that way may not be obvious at first unless you're Dutch.\n",
      "Now is better than never.\n",
      "Although never is often better than *right* now.\n",
      "If the implementation is hard to explain, it's a bad idea.\n",
      "If the implementation is easy to explain, it may be a good idea.\n",
      "Namespaces are one honking great idea -- let's do more of those!\n"
     ]
    }
   ],
   "source": [
    "import this"
   ]
  },
  {
   "cell_type": "code",
   "execution_count": 66,
   "metadata": {},
   "outputs": [
    {
     "name": "stdout",
     "output_type": "stream",
     "text": [
      "[6, 7]\n",
      "m\n"
     ]
    }
   ],
   "source": [
    "l = [1,2.3, 'New York', [6,7]]\n",
    "print(l[3])\n",
    "a = 'meme'\n",
    "print(a[0])"
   ]
  },
  {
   "cell_type": "code",
   "execution_count": 3,
   "metadata": {},
   "outputs": [
    {
     "name": "stdout",
     "output_type": "stream",
     "text": [
      "['hello Jayesh', 'hello Vaibhav', 'hello Umang']\n"
     ]
    }
   ],
   "source": [
    "names = ['Jayesh', 'Vaibhav', 'Umang']\n",
    "\n",
    "print([f\"hello {name}\" for name in names])"
   ]
  },
  {
   "cell_type": "markdown",
   "metadata": {},
   "source": []
  },
  {
   "cell_type": "code",
   "execution_count": 4,
   "metadata": {},
   "outputs": [
    {
     "data": {
      "text/plain": [
       "['Jayesh', 'Umang']"
      ]
     },
     "execution_count": 4,
     "metadata": {},
     "output_type": "execute_result"
    }
   ],
   "source": [
    "names.remove('Vaibhav')\n",
    "names"
   ]
  },
  {
   "cell_type": "code",
   "execution_count": 86,
   "metadata": {},
   "outputs": [
    {
     "name": "stdout",
     "output_type": "stream",
     "text": [
      "True\n"
     ]
    }
   ],
   "source": [
    "a = 5\n",
    "b = -1\n",
    "c = 2\n",
    "print((c) and (b<0) and (a>0))"
   ]
  },
  {
   "cell_type": "code",
   "execution_count": 88,
   "metadata": {},
   "outputs": [
    {
     "name": "stdout",
     "output_type": "stream",
     "text": [
      "True\n"
     ]
    }
   ],
   "source": [
    "list = ['apple', 'mango']\n",
    "print('apple' in list)"
   ]
  },
  {
   "cell_type": "code",
   "execution_count": 91,
   "metadata": {},
   "outputs": [
    {
     "name": "stdout",
     "output_type": "stream",
     "text": [
      "raw\n",
      "nightraw\n",
      "6\n"
     ]
    }
   ],
   "source": [
    "Word='warrior knights'\n",
    "A=Word[9:14]\n",
    "B=Word[-13:-16:-1]\n",
    "print(B)\n",
    "print(A+B)\n",
    "A=5\n",
    "a=6\n",
    "print(a)"
   ]
  },
  {
   "cell_type": "code",
   "execution_count": 93,
   "metadata": {},
   "outputs": [
    {
     "name": "stdout",
     "output_type": "stream",
     "text": [
      "True\n"
     ]
    }
   ],
   "source": [
    "x1=int('16')\n",
    "x2=8 + 8\n",
    "x3= (4**2)\n",
    "\n",
    "print(x1 is x2 is x3)"
   ]
  },
  {
   "cell_type": "code",
   "execution_count": 94,
   "metadata": {},
   "outputs": [
    {
     "name": "stdout",
     "output_type": "stream",
     "text": [
      "True\n"
     ]
    }
   ],
   "source": [
    "print(((True) or (False) and (False) or (False)))"
   ]
  },
  {
   "cell_type": "code",
   "execution_count": 5,
   "metadata": {},
   "outputs": [
    {
     "name": "stdout",
     "output_type": "stream",
     "text": [
      "<class 'int'> <class 'str'>\n"
     ]
    }
   ],
   "source": [
    "#getting type of a variable\n",
    "age = 12\n",
    "name = 'John'\n",
    "type_age = type(age)\n",
    "type_name = type(name)\n",
    "print(type_age,type_name)"
   ]
  },
  {
   "cell_type": "code",
   "execution_count": 8,
   "metadata": {},
   "outputs": [
    {
     "name": "stdout",
     "output_type": "stream",
     "text": [
      "210.00\n"
     ]
    }
   ],
   "source": [
    "#calculating compound interest\n",
    "P = 1000 #principal amount\n",
    "r = 10 #interest rate\n",
    "n = 2 #tenure\n",
    "A = P*(1+r/100)**n #amount after tenure completion\n",
    "compound_interest = A - P\n",
    "print('%0.2f'%compound_interest)"
   ]
  },
  {
   "cell_type": "code",
   "execution_count": 40,
   "metadata": {},
   "outputs": [
    {
     "name": "stdout",
     "output_type": "stream",
     "text": [
      "number of element in string are 24\n",
      "substring this exists: True\n",
      "string in low case: this is my sample string\n",
      "string in capital: THIS IS MY SAMPLE STRING\n",
      "splitting string into list: ['this', 'is', 'my', 'Sample', 'String']\n",
      "splitting by some character['this is ', 'y Sa', 'ple String']\n",
      "string is located at: 84582768\n",
      "string after replacing: this will be my Sample String\n",
      "is string 'will be' present in sample string?: True\n"
     ]
    }
   ],
   "source": [
    "#various string methods\n",
    "str_ = 'this is my Sample String'\n",
    "length = len(str_)\n",
    "print(f\"number of element in string are {length}\")\n",
    "sub_ = 'this'\n",
    "start_sub = str_.startswith(sub_,0,length) #startswith(substring,begin,end)\n",
    "print(f\"substring {sub_} exists: {start_sub}\")\n",
    "#similarly one can use endswith() function\n",
    "print('string in low case: '+ str_.lower())\n",
    "print('string in capital: '+ str_.upper())\n",
    "print('splitting string into list: ' + str(str_.split()))#default split\n",
    "print('splitting by some character' + str(str_.split('m')))\n",
    "print('string is located at: '+ str(id(str_))) #omg isn't it amazing\n",
    "#This operation cannot be done inplace as string are immutable str_[-1] = 'p'\n",
    "#instead we can do\n",
    "str_ = str_.replace(' is ', ' will be ');\n",
    "print('string after replacing: '+ str_)\n",
    "print(\"is string 'will be' present in sample string?: \" + str(' will be ' in str_))"
   ]
  },
  {
   "cell_type": "code",
   "execution_count": 88,
   "metadata": {},
   "outputs": [
    {
     "name": "stdout",
     "output_type": "stream",
     "text": [
      "no. of elements in a list: 4\n",
      "[1, 2, 3, 4, 5, 6, 7]\n",
      "[1, 2, 3, 4, 1, 2, 3, 4]\n",
      "True False\n",
      "maximum value in list is: 4\n",
      "addition of list elements is 10\n",
      "concatenating list with one element: [1, 2, 3, 4, 10]\n",
      "after popping last element out: [1, 2, 3, 4]\n",
      "index of element 4 is: 3\n",
      "after extending original string [1, 2, 3, 4, 5, 6, 7]\n",
      "reversing the list [7, 6, 5, 4, 3, 2, 1]\n",
      "joining list elements: abc\n",
      "After deleting element from list: [7, 6, 5, 4, 3, 2]\n"
     ]
    },
    {
     "ename": "NameError",
     "evalue": "name 'list_' is not defined",
     "output_type": "error",
     "traceback": [
      "\u001b[1;31m---------------------------------------------------------------------------\u001b[0m",
      "\u001b[1;31mNameError\u001b[0m                                 Traceback (most recent call last)",
      "\u001b[1;32m<ipython-input-88-f5d137b0b291>\u001b[0m in \u001b[0;36m<module>\u001b[1;34m()\u001b[0m\n\u001b[0;32m     27\u001b[0m \u001b[0mprint\u001b[0m\u001b[1;33m(\u001b[0m\u001b[1;34m'After deleting element from list: '\u001b[0m \u001b[1;33m+\u001b[0m \u001b[0mstr\u001b[0m\u001b[1;33m(\u001b[0m\u001b[0mlist_\u001b[0m\u001b[1;33m)\u001b[0m\u001b[1;33m)\u001b[0m\u001b[1;33m\u001b[0m\u001b[0m\n\u001b[0;32m     28\u001b[0m \u001b[1;32mdel\u001b[0m\u001b[1;33m(\u001b[0m\u001b[0mlist_\u001b[0m\u001b[1;33m)\u001b[0m\u001b[1;33m\u001b[0m\u001b[0m\n\u001b[1;32m---> 29\u001b[1;33m \u001b[0mprint\u001b[0m\u001b[1;33m(\u001b[0m\u001b[0mlist_\u001b[0m\u001b[1;33m)\u001b[0m\u001b[1;33m\u001b[0m\u001b[0m\n\u001b[0m",
      "\u001b[1;31mNameError\u001b[0m: name 'list_' is not defined"
     ]
    }
   ],
   "source": [
    "#Python Lists\n",
    "list_ = [1,2,3,4] #or list_ = list(range(1,5)), range(start:stop+1)\n",
    "list1_ = list(range(5,8))\n",
    "list3_ = ['a', 'b','c']\n",
    "print('no. of elements in a list: ' + str(len(list_)))\n",
    "print(list_ + list1_)\n",
    "print(list_*2)\n",
    "print(3 in list_, 5 in list_)\n",
    "print('maximum value in list is: ' + str(max(list_)))\n",
    "#do min() for minimum\n",
    "print('addition of list elements is ' + str(sum(list_)))\n",
    "list_.append(10)\n",
    "print('concatenating list with one element: ' + str(list_))\n",
    "list_.pop()\n",
    "print('after popping last element out: '+ str(list_))\n",
    "print('index of element 4 is: '+ str(list_.index(4)))\n",
    "#instead of an element we can append entire list by another using extend\n",
    "list_.extend(list1_)\n",
    "print('after extending original string ' + str(list_) )\n",
    "list_.reverse()\n",
    "print('reversing the list '+ str(list_))\n",
    "#converting list to string\n",
    "list_to_string = ''.join(list3_)\n",
    "print('joining list elements: ' + str(list_to_string))\n",
    "#removing element from a list\n",
    "list_.remove(1)\n",
    "print('After deleting element from list: ' + str(list_))\n",
    "#deleting list from memory\n",
    "del(list_)\n",
    "print(list_)"
   ]
  },
  {
   "cell_type": "code",
   "execution_count": 102,
   "metadata": {},
   "outputs": [
    {
     "name": "stdout",
     "output_type": "stream",
     "text": [
      "dict_keys(['fruit', 'food'])\n",
      "Apple Apple\n",
      "Animal is absent\n",
      "Lion\n",
      "after updating the dictionary {'fruit': 'Apple', 'food': 'Pizza', 'Animal': ['Lion', 'Tiger']}\n",
      "0 fruit Apple\n",
      "1 food Pizza\n",
      "2 Animal ['Lion', 'Tiger']\n",
      "Values in dictionary: ['Apple', 'Pizza', ['Lion', 'Tiger']]\n"
     ]
    }
   ],
   "source": [
    "#Dictionairies are immutable and come with key value pair\n",
    "#keys should be unique\n",
    "dict_ = {'fruit':'Apple','food':'Pizza'}\n",
    "print(dict_.keys())\n",
    "print(dict_['fruit'], dict_.get('fruit'))\n",
    "print(dict_.get('Animal','Animal is absent'))\n",
    "dict_['Animal'] = 'Lion'\n",
    "print(dict_.get('Animal','Animal is absent'))\n",
    "dict1_ = {'Animal': ['Lion', 'Tiger']}\n",
    "dict_.update(dict1_)\n",
    "print('after updating the dictionary ' + str(dict_))\n",
    "for idx_,key_ in enumerate(dict_):\n",
    "    print(idx_,key_,dict_[key_])\n",
    "values_ = [dict_[key_] for key_ in dict_.keys()]\n",
    "print('Values in dictionary: ' + str(values_))"
   ]
  },
  {
   "cell_type": "code",
   "execution_count": null,
   "metadata": {},
   "outputs": [],
   "source": [
    "#one way to check variable is mutable or immutable is to check if id(memory location)\n",
    "#changes after operation like inserting element(e.g in list) or increamenting element (e.g in tuple)\n"
   ]
  }
 ],
 "metadata": {
  "kernelspec": {
   "display_name": "Python 3",
   "language": "python",
   "name": "python3"
  },
  "language_info": {
   "codemirror_mode": {
    "name": "ipython",
    "version": 3
   },
   "file_extension": ".py",
   "mimetype": "text/x-python",
   "name": "python",
   "nbconvert_exporter": "python",
   "pygments_lexer": "ipython3",
   "version": "3.6.5"
  }
 },
 "nbformat": 4,
 "nbformat_minor": 2
}
