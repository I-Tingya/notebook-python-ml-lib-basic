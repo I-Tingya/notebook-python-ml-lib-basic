{
 "cells": [
  {
   "cell_type": "code",
   "execution_count": 1,
   "metadata": {},
   "outputs": [
    {
     "name": "stdout",
     "output_type": "stream",
     "text": [
      "Requirement already satisfied: numpy in c:\\users\\jayesh\\anaconda3\\lib\\site-packages (1.14.3)\n"
     ]
    }
   ],
   "source": [
    "!pip install numpy"
   ]
  },
  {
   "cell_type": "code",
   "execution_count": 1,
   "metadata": {},
   "outputs": [
    {
     "name": "stdout",
     "output_type": "stream",
     "text": [
      "Solving environment: ...working... done\n",
      "\n",
      "# All requested packages already installed.\n",
      "\n"
     ]
    },
    {
     "name": "stderr",
     "output_type": "stream",
     "text": [
      "\n",
      "\n",
      "==> WARNING: A newer version of conda exists. <==\n",
      "  current version: 4.5.11\n",
      "  latest version: 4.5.12\n",
      "\n",
      "Please update conda by running\n",
      "\n",
      "    $ conda update -n base -c defaults conda\n",
      "\n",
      "\n"
     ]
    }
   ],
   "source": [
    "!conda update numpy"
   ]
  },
  {
   "cell_type": "code",
   "execution_count": 1,
   "metadata": {},
   "outputs": [
    {
     "name": "stdout",
     "output_type": "stream",
     "text": [
      "shape of array a is (4,)\n",
      "dimension of array a is 1\n",
      "shape of array b is(2, 3)\n",
      "dimension of array b is 2\n",
      "size of array a is 4\n",
      "size of array b is 6\n",
      "data type of elements of array a is float64\n",
      "data type of elements of array b is float64\n",
      "number of bytes of array a are 8\n",
      "number of bytes of array b are 8\n"
     ]
    }
   ],
   "source": [
    "import numpy as np\n",
    "a = np.array([1,2,3,4.0])\n",
    "print('shape of array a is ' + str(a.shape))\n",
    "print('dimension of array a is '+ str(a.ndim)) #1d array\n",
    "b = np.array([[1.0,2.0,3.0],[4.0,5.0,6.0]])\n",
    "print('shape of array b is' + str(b.shape))\n",
    "print('dimension of array b is '+ str(b.ndim))#2d array\n",
    "print('size of array a is '+ str(a.size))\n",
    "print('size of array b is '+ str(b.size))\n",
    "print('data type of elements of array a is '+ str(a.dtype))\n",
    "print('data type of elements of array b is '+ str(b.dtype))\n",
    "print('number of bytes of array a are ' + str(a.itemsize))\n",
    "print('number of bytes of array b are ' + str(b.itemsize))"
   ]
  },
  {
   "cell_type": "code",
   "execution_count": 27,
   "metadata": {},
   "outputs": [
    {
     "name": "stdout",
     "output_type": "stream",
     "text": [
      "original shape of array is (4,)\n",
      "(2, 2)\n"
     ]
    }
   ],
   "source": [
    "a = np.array(range(1,5))\n",
    "print('original shape of array is '+str(a.shape))\n",
    "a = a.reshape((2,2)) #a = np.reshape(a,(2,2))\n",
    "print(a.shape)"
   ]
  },
  {
   "cell_type": "code",
   "execution_count": 33,
   "metadata": {},
   "outputs": [
    {
     "name": "stdout",
     "output_type": "stream",
     "text": [
      "[[1 0]\n",
      " [0 1]]\n",
      "[[1. 1.]\n",
      " [1. 1.]]\n",
      "[[1. 0.]\n",
      " [0. 1.]]\n",
      "[[7 7]\n",
      " [7 7]]\n"
     ]
    }
   ],
   "source": [
    "a = np.empty((2,2),dtype='int8')\n",
    "print(a)\n",
    "b = np.ones((2,2)) #similarly np.zeros\n",
    "print(b)\n",
    "c = np.eye(2)\n",
    "print(c)\n",
    "d = np.full((2,2),7)\n",
    "print(d)"
   ]
  },
  {
   "cell_type": "code",
   "execution_count": 36,
   "metadata": {},
   "outputs": [
    {
     "name": "stdout",
     "output_type": "stream",
     "text": [
      "[1 2 3]\n",
      "[1. 3. 5.]\n"
     ]
    }
   ],
   "source": [
    "a = np.arange(1,4)\n",
    "print(a)\n",
    "b = np.arange(1,6,2,dtype='float32')\n",
    "print(b)"
   ]
  },
  {
   "cell_type": "code",
   "execution_count": 39,
   "metadata": {},
   "outputs": [
    {
     "name": "stdout",
     "output_type": "stream",
     "text": [
      "[1.  1.5 2.  2.5 3.  3.5 4. ]\n",
      "[  1.           1.66810054   2.7825594    4.64158883   7.74263683\n",
      "  12.91549665  21.5443469   35.93813664  59.94842503 100.        ]\n"
     ]
    }
   ],
   "source": [
    "a = np.linspace(1,4,7)\n",
    "print(a)\n",
    "b = np.logspace(0,2,10) #array from 10^0 to 10^2 divided into 10 parts\n",
    "print(b)"
   ]
  },
  {
   "cell_type": "code",
   "execution_count": 42,
   "metadata": {},
   "outputs": [
    {
     "name": "stdout",
     "output_type": "stream",
     "text": [
      "[[1 2]\n",
      " [4 5]]\n",
      "[[False False False]\n",
      " [ True  True  True]]\n"
     ]
    }
   ],
   "source": [
    "a = np.array([[1,2,3],[4,5,6]])\n",
    "print(a[:2,:2])\n",
    "mask = a>3\n",
    "print(mask)"
   ]
  },
  {
   "cell_type": "code",
   "execution_count": 46,
   "metadata": {},
   "outputs": [
    {
     "name": "stdout",
     "output_type": "stream",
     "text": [
      "[ True  True False]\n",
      "[1.+0.j 2.+0.j]\n"
     ]
    }
   ],
   "source": [
    "a = np.array([1,2,3+5j])\n",
    "real_mask = np.isreal(a) #similarly iscomplex()\n",
    "print(real_mask)\n",
    "real_array = a[real_mask]\n",
    "print(real_array)"
   ]
  },
  {
   "cell_type": "code",
   "execution_count": 50,
   "metadata": {},
   "outputs": [
    {
     "name": "stdout",
     "output_type": "stream",
     "text": [
      "[[1 2]\n",
      " [3 4]]\n",
      "[1 2 3 4]\n"
     ]
    }
   ],
   "source": [
    "a = np.arange(1,5).reshape(2,2)\n",
    "print(a)\n",
    "a = a.flatten()\n",
    "print(a)"
   ]
  },
  {
   "cell_type": "code",
   "execution_count": 53,
   "metadata": {},
   "outputs": [
    {
     "name": "stdout",
     "output_type": "stream",
     "text": [
      "[[0.6768216  0.17415812 0.85453542 0.61342115 0.31702144]\n",
      " [0.18708346 0.71820838 0.66471155 0.85987765 0.66059777]\n",
      " [0.65809545 0.8435525  0.13286697 0.55975634 0.53262266]\n",
      " [0.79243191 0.37461154 0.23079718 0.65984449 0.91025244]\n",
      " [0.96276706 0.27292279 0.27340882 0.23956404 0.95992493]]\n",
      "[[-0.10772613 -0.27528063 -0.04848819 -0.12885962 -0.22765952]\n",
      " [-0.27097218 -0.09393054 -0.11176282 -0.04670745 -0.11313408]\n",
      " [-0.11396818 -0.05214917 -0.28904434 -0.14674789 -0.15579245]\n",
      " [-0.06918936 -0.20846282 -0.25640094 -0.11338517 -0.02991585]\n",
      " [-0.01241098 -0.24235907 -0.24219706 -0.25347865 -0.01335836]]\n"
     ]
    }
   ],
   "source": [
    "z = np.random.random((5,5))\n",
    "print(z)\n",
    "zmax = a.max()\n",
    "zmin = a.min()\n",
    "znorm = (z-zmin)/(zmax-zmin)\n",
    "print(znorm)\n"
   ]
  },
  {
   "cell_type": "code",
   "execution_count": 59,
   "metadata": {},
   "outputs": [
    {
     "name": "stdout",
     "output_type": "stream",
     "text": [
      "[2. 2.]\n"
     ]
    }
   ],
   "source": [
    "#solving quadratic equation\n",
    "coeff = [1,-4,4]\n",
    "roots = np.roots(coeff)\n",
    "print(roots)\n"
   ]
  },
  {
   "cell_type": "code",
   "execution_count": 63,
   "metadata": {},
   "outputs": [
    {
     "name": "stdout",
     "output_type": "stream",
     "text": [
      "[ 2. -5. -1.]\n",
      "False\n"
     ]
    }
   ],
   "source": [
    "#solving system of equations Ax=B\n",
    "A = np.array([[2,1,2],[3,0,1],[1,1,-1]])\n",
    "b = np.array([-3,5,-2])\n",
    "x = np.linalg.solve(A,b)\n",
    "print(x)\n",
    "check_eq = np.allclose(A*x,b)\n",
    "print(check_eq)\n"
   ]
  },
  {
   "cell_type": "code",
   "execution_count": 3,
   "metadata": {},
   "outputs": [
    {
     "name": "stdout",
     "output_type": "stream",
     "text": [
      "(1, 0)\n"
     ]
    }
   ],
   "source": [
    "#getting index of max value\n",
    "A = np.array([[2,1,2],[3,0,1],[1,1,-1]])\n",
    "idx = np.unravel_index(np.argmax(A),A.shape)\n",
    "print(idx)"
   ]
  },
  {
   "cell_type": "code",
   "execution_count": 4,
   "metadata": {},
   "outputs": [
    {
     "name": "stdout",
     "output_type": "stream",
     "text": [
      "[[1 4]\n",
      " [2 5]\n",
      " [3 6]]\n",
      "(3,)\n"
     ]
    }
   ],
   "source": [
    "A = np.c_[np.array([1,2,3]),np.array([4,5,6])]\n",
    "print(A)\n",
    "print(np.array([1,2,3]).shape)\n",
    "#np.array([1,2,3]) is 3,1(in mind), shape of resultant array is 3,(1+1) i.e 3,2 stacking along second axis"
   ]
  },
  {
   "cell_type": "code",
   "execution_count": 7,
   "metadata": {},
   "outputs": [
    {
     "name": "stdout",
     "output_type": "stream",
     "text": [
      "[[1 2 3 0 0]]\n",
      "(1, 3)\n"
     ]
    }
   ],
   "source": [
    "A = np.c_[np.array([[1,2,3]]),0,0]\n",
    "print(A)\n",
    "print(np.array([[1,2,3]]).shape)\n",
    "#shape (1,3) of array, shape of 0 is 1,1 so resultant shape is 1,3+1+1"
   ]
  }
 ],
 "metadata": {
  "kernelspec": {
   "display_name": "Python 3",
   "language": "python",
   "name": "python3"
  },
  "language_info": {
   "codemirror_mode": {
    "name": "ipython",
    "version": 3
   },
   "file_extension": ".py",
   "mimetype": "text/x-python",
   "name": "python",
   "nbconvert_exporter": "python",
   "pygments_lexer": "ipython3",
   "version": "3.6.5"
  }
 },
 "nbformat": 4,
 "nbformat_minor": 2
}
