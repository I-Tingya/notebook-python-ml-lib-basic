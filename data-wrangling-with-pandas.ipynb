{
 "cells": [
  {
   "cell_type": "code",
   "execution_count": 1,
   "metadata": {},
   "outputs": [
    {
     "name": "stdout",
     "output_type": "stream",
     "text": [
      "Requirement already satisfied: pandas in c:\\users\\jayesh\\anaconda3\\lib\\site-packages (0.23.0)\n",
      "Requirement already satisfied: python-dateutil>=2.5.0 in c:\\users\\jayesh\\anaconda3\\lib\\site-packages (from pandas) (2.7.3)\n",
      "Requirement already satisfied: numpy>=1.9.0 in c:\\users\\jayesh\\anaconda3\\lib\\site-packages (from pandas) (1.14.3)\n",
      "Requirement already satisfied: pytz>=2011k in c:\\users\\jayesh\\anaconda3\\lib\\site-packages (from pandas) (2018.4)\n",
      "Requirement already satisfied: six>=1.5 in c:\\users\\jayesh\\anaconda3\\lib\\site-packages (from python-dateutil>=2.5.0->pandas) (1.11.0)\n"
     ]
    }
   ],
   "source": [
    "!pip install pandas"
   ]
  },
  {
   "cell_type": "code",
   "execution_count": 2,
   "metadata": {},
   "outputs": [
    {
     "name": "stdout",
     "output_type": "stream",
     "text": [
      "Solving environment: ...working... done\n",
      "\n",
      "# All requested packages already installed.\n",
      "\n"
     ]
    },
    {
     "name": "stderr",
     "output_type": "stream",
     "text": [
      "\n",
      "\n",
      "==> WARNING: A newer version of conda exists. <==\n",
      "  current version: 4.5.11\n",
      "  latest version: 4.5.12\n",
      "\n",
      "Please update conda by running\n",
      "\n",
      "    $ conda update -n base -c defaults conda\n",
      "\n",
      "\n"
     ]
    }
   ],
   "source": [
    "!conda update pandas"
   ]
  },
  {
   "cell_type": "code",
   "execution_count": 2,
   "metadata": {},
   "outputs": [
    {
     "name": "stdout",
     "output_type": "stream",
     "text": [
      "0    10.0\n",
      "1    10.0\n",
      "2    10.0\n",
      "3    10.0\n",
      "4    10.0\n",
      "5    10.0\n",
      "dtype: float32\n"
     ]
    }
   ],
   "source": [
    "#scalar\n",
    "import pandas as pd\n",
    "num = 10\n",
    "print(pd.Series(num,index= range(num-4),dtype='float32'))"
   ]
  },
  {
   "cell_type": "code",
   "execution_count": null,
   "metadata": {},
   "outputs": [],
   "source": [
    "#instead of scalar in above example we can also pass list, dictionary or tuple"
   ]
  },
  {
   "cell_type": "code",
   "execution_count": 17,
   "metadata": {},
   "outputs": [
    {
     "name": "stdout",
     "output_type": "stream",
     "text": [
      "RangeIndex(start=0, stop=10, step=1)\n",
      "[0 1 2 3 4 5 6 7 8 9]\n",
      "[11 12 13 14 15 16 17 18 19 20]\n",
      "[0 1 2 3 4] [11 12 13 14 15]\n"
     ]
    }
   ],
   "source": [
    "ser_ = pd.Series(range(11,21),index=range(0,10))\n",
    "print(ser_.index)\n",
    "print(ser_.index.values)\n",
    "print(ser_.values)\n",
    "#Series slicing\n",
    "num = 5\n",
    "print(ser_[:num].index.values,ser_[:num].values)"
   ]
  },
  {
   "cell_type": "code",
   "execution_count": 23,
   "metadata": {},
   "outputs": [
    {
     "name": "stdout",
     "output_type": "stream",
     "text": [
      "1\n",
      "a    2.0\n",
      "b    4.0\n",
      "c    6.0\n",
      "d    8.0\n",
      "e    NaN\n",
      "f    NaN\n",
      "dtype: float64\n",
      "a    2.0\n",
      "b    4.0\n",
      "c    6.0\n",
      "d    8.0\n",
      "e    0.0\n",
      "f    0.0\n",
      "dtype: float64\n"
     ]
    }
   ],
   "source": [
    "#accessing Series elements by labels rather than numerical index\n",
    "ser_ = pd.Series(range(1,6),index=['a','b','c','d','e'])\n",
    "print(ser_['a'])\n",
    "ser1_ = pd.Series(range(1,6),index=['a','b','c','d','f'])\n",
    "#adding two Series\n",
    "ser2_ = ser_ + ser1_\n",
    "print(ser2_)\n",
    "ser2_.fillna(0,inplace=True)\n",
    "print(ser2_)"
   ]
  },
  {
   "cell_type": "code",
   "execution_count": null,
   "metadata": {},
   "outputs": [],
   "source": []
  },
  {
   "cell_type": "code",
   "execution_count": 28,
   "metadata": {},
   "outputs": [
    {
     "data": {
      "text/html": [
       "<div>\n",
       "<style scoped>\n",
       "    .dataframe tbody tr th:only-of-type {\n",
       "        vertical-align: middle;\n",
       "    }\n",
       "\n",
       "    .dataframe tbody tr th {\n",
       "        vertical-align: top;\n",
       "    }\n",
       "\n",
       "    .dataframe thead th {\n",
       "        text-align: right;\n",
       "    }\n",
       "</style>\n",
       "<table border=\"1\" class=\"dataframe\">\n",
       "  <thead>\n",
       "    <tr style=\"text-align: right;\">\n",
       "      <th></th>\n",
       "      <th>Numbers</th>\n",
       "      <th>Pincodes</th>\n",
       "    </tr>\n",
       "  </thead>\n",
       "  <tbody>\n",
       "    <tr>\n",
       "      <th>0</th>\n",
       "      <td>1</td>\n",
       "      <td>2</td>\n",
       "    </tr>\n",
       "    <tr>\n",
       "      <th>1</th>\n",
       "      <td>3</td>\n",
       "      <td>4</td>\n",
       "    </tr>\n",
       "    <tr>\n",
       "      <th>2</th>\n",
       "      <td>5</td>\n",
       "      <td>6</td>\n",
       "    </tr>\n",
       "  </tbody>\n",
       "</table>\n",
       "</div>"
      ],
      "text/plain": [
       "   Numbers  Pincodes\n",
       "0        1         2\n",
       "1        3         4\n",
       "2        5         6"
      ]
     },
     "execution_count": 28,
     "metadata": {},
     "output_type": "execute_result"
    }
   ],
   "source": [
    "#Creating a DataFrame using 2D array\n",
    "\n",
    "df = pd.DataFrame( [ [1,2],[3,4],[5,6] ], columns=['Numbers','Pincodes'] )\n",
    "df"
   ]
  },
  {
   "cell_type": "code",
   "execution_count": 29,
   "metadata": {},
   "outputs": [
    {
     "name": "stdout",
     "output_type": "stream",
     "text": [
      "shape of DataFrame is: (3, 2)\n"
     ]
    }
   ],
   "source": [
    "#How to get a shape i.e number of rows and columns of a DataFrame\n",
    "#shape is a property of DataFrame object, it returns a tuple in the form (rows, columns)\n",
    "print(\"shape of DataFrame is:\", df.shape)"
   ]
  },
  {
   "cell_type": "code",
   "execution_count": 30,
   "metadata": {},
   "outputs": [
    {
     "name": "stdout",
     "output_type": "stream",
     "text": [
      "indices for DataFrame rows are:  [0 1 2]\n",
      "column names of the dataframe are:  ['Numbers' 'Pincodes']\n",
      "<class 'pandas.core.indexes.range.RangeIndex'>\n",
      "RangeIndex(start=0, stop=3, step=1)\n"
     ]
    }
   ],
   "source": [
    "#How to get the indices assigned to a DataFrame, this is BOLD 0,1 assigned to rows of df DataFrame (ref out[4])\n",
    "#index is the property of DataFrame which returns a RangeIndex object \n",
    "print(\"indices for DataFrame rows are: \", df.index.values)\n",
    "print('column names of the dataframe are: ',df.columns.values)\n",
    "#when you print the type of index as below, it says its a class and where it belongs\n",
    "print(type(df.index))\n",
    "print(df.index) "
   ]
  },
  {
   "cell_type": "code",
   "execution_count": 21,
   "metadata": {},
   "outputs": [
    {
     "data": {
      "text/html": [
       "<div>\n",
       "<style scoped>\n",
       "    .dataframe tbody tr th:only-of-type {\n",
       "        vertical-align: middle;\n",
       "    }\n",
       "\n",
       "    .dataframe tbody tr th {\n",
       "        vertical-align: top;\n",
       "    }\n",
       "\n",
       "    .dataframe thead th {\n",
       "        text-align: right;\n",
       "    }\n",
       "</style>\n",
       "<table border=\"1\" class=\"dataframe\">\n",
       "  <thead>\n",
       "    <tr style=\"text-align: right;\">\n",
       "      <th></th>\n",
       "      <th>Loan_ID</th>\n",
       "      <th>Gender</th>\n",
       "      <th>Married</th>\n",
       "      <th>Dependents</th>\n",
       "      <th>Education</th>\n",
       "      <th>Self_Employed</th>\n",
       "      <th>ApplicantIncome</th>\n",
       "      <th>CoapplicantIncome</th>\n",
       "      <th>LoanAmount</th>\n",
       "      <th>Loan_Amount_Term</th>\n",
       "      <th>Credit_History</th>\n",
       "      <th>Property_Area</th>\n",
       "      <th>Loan_Status</th>\n",
       "    </tr>\n",
       "  </thead>\n",
       "  <tbody>\n",
       "    <tr>\n",
       "      <th>0</th>\n",
       "      <td>LP001002</td>\n",
       "      <td>Male</td>\n",
       "      <td>No</td>\n",
       "      <td>0</td>\n",
       "      <td>Graduate</td>\n",
       "      <td>No</td>\n",
       "      <td>5849</td>\n",
       "      <td>0.0</td>\n",
       "      <td>NaN</td>\n",
       "      <td>360.0</td>\n",
       "      <td>1.0</td>\n",
       "      <td>Urban</td>\n",
       "      <td>Y</td>\n",
       "    </tr>\n",
       "    <tr>\n",
       "      <th>1</th>\n",
       "      <td>LP001003</td>\n",
       "      <td>Male</td>\n",
       "      <td>Yes</td>\n",
       "      <td>1</td>\n",
       "      <td>Graduate</td>\n",
       "      <td>No</td>\n",
       "      <td>4583</td>\n",
       "      <td>1508.0</td>\n",
       "      <td>128.0</td>\n",
       "      <td>360.0</td>\n",
       "      <td>1.0</td>\n",
       "      <td>Rural</td>\n",
       "      <td>N</td>\n",
       "    </tr>\n",
       "    <tr>\n",
       "      <th>2</th>\n",
       "      <td>LP001005</td>\n",
       "      <td>Male</td>\n",
       "      <td>Yes</td>\n",
       "      <td>0</td>\n",
       "      <td>Graduate</td>\n",
       "      <td>Yes</td>\n",
       "      <td>3000</td>\n",
       "      <td>0.0</td>\n",
       "      <td>66.0</td>\n",
       "      <td>360.0</td>\n",
       "      <td>1.0</td>\n",
       "      <td>Urban</td>\n",
       "      <td>Y</td>\n",
       "    </tr>\n",
       "    <tr>\n",
       "      <th>3</th>\n",
       "      <td>LP001006</td>\n",
       "      <td>Male</td>\n",
       "      <td>Yes</td>\n",
       "      <td>0</td>\n",
       "      <td>Not Graduate</td>\n",
       "      <td>No</td>\n",
       "      <td>2583</td>\n",
       "      <td>2358.0</td>\n",
       "      <td>120.0</td>\n",
       "      <td>360.0</td>\n",
       "      <td>1.0</td>\n",
       "      <td>Urban</td>\n",
       "      <td>Y</td>\n",
       "    </tr>\n",
       "    <tr>\n",
       "      <th>4</th>\n",
       "      <td>LP001008</td>\n",
       "      <td>Male</td>\n",
       "      <td>No</td>\n",
       "      <td>0</td>\n",
       "      <td>Graduate</td>\n",
       "      <td>No</td>\n",
       "      <td>6000</td>\n",
       "      <td>0.0</td>\n",
       "      <td>141.0</td>\n",
       "      <td>360.0</td>\n",
       "      <td>1.0</td>\n",
       "      <td>Urban</td>\n",
       "      <td>Y</td>\n",
       "    </tr>\n",
       "  </tbody>\n",
       "</table>\n",
       "</div>"
      ],
      "text/plain": [
       "    Loan_ID Gender Married Dependents     Education Self_Employed  \\\n",
       "0  LP001002   Male      No          0      Graduate            No   \n",
       "1  LP001003   Male     Yes          1      Graduate            No   \n",
       "2  LP001005   Male     Yes          0      Graduate           Yes   \n",
       "3  LP001006   Male     Yes          0  Not Graduate            No   \n",
       "4  LP001008   Male      No          0      Graduate            No   \n",
       "\n",
       "   ApplicantIncome  CoapplicantIncome  LoanAmount  Loan_Amount_Term  \\\n",
       "0             5849                0.0         NaN             360.0   \n",
       "1             4583             1508.0       128.0             360.0   \n",
       "2             3000                0.0        66.0             360.0   \n",
       "3             2583             2358.0       120.0             360.0   \n",
       "4             6000                0.0       141.0             360.0   \n",
       "\n",
       "   Credit_History Property_Area Loan_Status  \n",
       "0             1.0         Urban           Y  \n",
       "1             1.0         Rural           N  \n",
       "2             1.0         Urban           Y  \n",
       "3             1.0         Urban           Y  \n",
       "4             1.0         Urban           Y  "
      ]
     },
     "execution_count": 21,
     "metadata": {},
     "output_type": "execute_result"
    }
   ],
   "source": [
    "df_ = pd.read_csv('./data/loan-pred-clean.csv')\n",
    "#show top 5 rows\n",
    "df_.head() #to show top n rows use .head(n)"
   ]
  },
  {
   "cell_type": "code",
   "execution_count": 41,
   "metadata": {},
   "outputs": [
    {
     "name": "stdout",
     "output_type": "stream",
     "text": [
      "<class 'pandas.core.frame.DataFrame'>\n",
      "RangeIndex: 600 entries, 0 to 599\n",
      "Data columns (total 13 columns):\n",
      "Loan_ID              600 non-null object\n",
      "Gender               589 non-null object\n",
      "Married              597 non-null object\n",
      "Dependents           585 non-null object\n",
      "Education            600 non-null object\n",
      "Self_Employed        570 non-null object\n",
      "ApplicantIncome      600 non-null int64\n",
      "CoapplicantIncome    600 non-null float64\n",
      "LoanAmount           578 non-null float64\n",
      "Loan_Amount_Term     586 non-null float64\n",
      "Credit_History       551 non-null float64\n",
      "Property_Area        600 non-null object\n",
      "Loan_Status          600 non-null object\n",
      "dtypes: float64(4), int64(1), object(8)\n",
      "memory usage: 61.0+ KB\n"
     ]
    },
    {
     "data": {
      "text/plain": [
       "'\\ninfo gives various inferences like total rows 600, total columns 13,column names\\nnon-null entries in each columns, data types of columns, memory usage.\\n'"
      ]
     },
     "execution_count": 41,
     "metadata": {},
     "output_type": "execute_result"
    }
   ],
   "source": [
    "df_.info()\n",
    "'''\n",
    "info gives various inferences like total rows 600, total columns 13,column names\n",
    "non-null entries in each columns, data types of columns, memory usage.\n",
    "'''\n"
   ]
  },
  {
   "cell_type": "code",
   "execution_count": 45,
   "metadata": {},
   "outputs": [
    {
     "data": {
      "text/html": [
       "<div>\n",
       "<style scoped>\n",
       "    .dataframe tbody tr th:only-of-type {\n",
       "        vertical-align: middle;\n",
       "    }\n",
       "\n",
       "    .dataframe tbody tr th {\n",
       "        vertical-align: top;\n",
       "    }\n",
       "\n",
       "    .dataframe thead th {\n",
       "        text-align: right;\n",
       "    }\n",
       "</style>\n",
       "<table border=\"1\" class=\"dataframe\">\n",
       "  <thead>\n",
       "    <tr style=\"text-align: right;\">\n",
       "      <th></th>\n",
       "      <th>ApplicantIncome</th>\n",
       "      <th>CoapplicantIncome</th>\n",
       "      <th>LoanAmount</th>\n",
       "      <th>Loan_Amount_Term</th>\n",
       "      <th>Credit_History</th>\n",
       "    </tr>\n",
       "  </thead>\n",
       "  <tbody>\n",
       "    <tr>\n",
       "      <th>count</th>\n",
       "      <td>600.000000</td>\n",
       "      <td>600.000000</td>\n",
       "      <td>578.000000</td>\n",
       "      <td>586.000000</td>\n",
       "      <td>551.000000</td>\n",
       "    </tr>\n",
       "    <tr>\n",
       "      <th>mean</th>\n",
       "      <td>4870.668333</td>\n",
       "      <td>1421.538200</td>\n",
       "      <td>141.865052</td>\n",
       "      <td>342.593857</td>\n",
       "      <td>0.843920</td>\n",
       "    </tr>\n",
       "    <tr>\n",
       "      <th>std</th>\n",
       "      <td>3380.099718</td>\n",
       "      <td>1684.082008</td>\n",
       "      <td>76.311156</td>\n",
       "      <td>64.797084</td>\n",
       "      <td>0.363261</td>\n",
       "    </tr>\n",
       "    <tr>\n",
       "      <th>min</th>\n",
       "      <td>150.000000</td>\n",
       "      <td>0.000000</td>\n",
       "      <td>9.000000</td>\n",
       "      <td>12.000000</td>\n",
       "      <td>0.000000</td>\n",
       "    </tr>\n",
       "    <tr>\n",
       "      <th>25%</th>\n",
       "      <td>2880.500000</td>\n",
       "      <td>0.000000</td>\n",
       "      <td>100.000000</td>\n",
       "      <td>360.000000</td>\n",
       "      <td>1.000000</td>\n",
       "    </tr>\n",
       "    <tr>\n",
       "      <th>50%</th>\n",
       "      <td>3768.500000</td>\n",
       "      <td>1188.500000</td>\n",
       "      <td>126.500000</td>\n",
       "      <td>360.000000</td>\n",
       "      <td>1.000000</td>\n",
       "    </tr>\n",
       "    <tr>\n",
       "      <th>75%</th>\n",
       "      <td>5704.250000</td>\n",
       "      <td>2253.250000</td>\n",
       "      <td>163.500000</td>\n",
       "      <td>360.000000</td>\n",
       "      <td>1.000000</td>\n",
       "    </tr>\n",
       "    <tr>\n",
       "      <th>max</th>\n",
       "      <td>20833.000000</td>\n",
       "      <td>8980.000000</td>\n",
       "      <td>650.000000</td>\n",
       "      <td>480.000000</td>\n",
       "      <td>1.000000</td>\n",
       "    </tr>\n",
       "  </tbody>\n",
       "</table>\n",
       "</div>"
      ],
      "text/plain": [
       "       ApplicantIncome  CoapplicantIncome  LoanAmount  Loan_Amount_Term  \\\n",
       "count       600.000000         600.000000  578.000000        586.000000   \n",
       "mean       4870.668333        1421.538200  141.865052        342.593857   \n",
       "std        3380.099718        1684.082008   76.311156         64.797084   \n",
       "min         150.000000           0.000000    9.000000         12.000000   \n",
       "25%        2880.500000           0.000000  100.000000        360.000000   \n",
       "50%        3768.500000        1188.500000  126.500000        360.000000   \n",
       "75%        5704.250000        2253.250000  163.500000        360.000000   \n",
       "max       20833.000000        8980.000000  650.000000        480.000000   \n",
       "\n",
       "       Credit_History  \n",
       "count      551.000000  \n",
       "mean         0.843920  \n",
       "std          0.363261  \n",
       "min          0.000000  \n",
       "25%          1.000000  \n",
       "50%          1.000000  \n",
       "75%          1.000000  \n",
       "max          1.000000  "
      ]
     },
     "execution_count": 45,
     "metadata": {},
     "output_type": "execute_result"
    }
   ],
   "source": [
    "df_.describe() \n",
    "#this function gives descriptive statistical inference of the dataframe\n",
    "#it includes total count, mean, standard deviation, min, max and quartile, median is \n",
    "#at 50% quartile"
   ]
  },
  {
   "cell_type": "code",
   "execution_count": 120,
   "metadata": {},
   "outputs": [
    {
     "name": "stdout",
     "output_type": "stream",
     "text": [
      "Loan_ID              600\n",
      "Gender                 2\n",
      "Married                2\n",
      "Dependents             4\n",
      "Education              2\n",
      "Self_Employed          2\n",
      "ApplicantIncome      492\n",
      "CoapplicantIncome    282\n",
      "LoanAmount           195\n",
      "Loan_Amount_Term      10\n",
      "Credit_History         2\n",
      "Property_Area          3\n",
      "Loan_Status            2\n",
      "dtype: int64\n",
      "**************************************************\n",
      "4\n",
      "['0' '1' '2' '3+' nan]\n",
      "**************************************************\n",
      "15\n",
      "**************************************************\n",
      "0     341\n",
      "2     100\n",
      "1      99\n",
      "3+     45\n",
      "Name: Dependents, dtype: int64\n"
     ]
    }
   ],
   "source": [
    "#unique catagories in each columns\n",
    "print(df_.nunique())\n",
    "print('*'*50)\n",
    "\n",
    "#lets see what are the unique values in Dependents columns\n",
    "print(df_['Dependents'].nunique())\n",
    "print(df_['Dependents'].unique()) #can only be used on a column and not on dataframe\n",
    "print('*'*50)\n",
    "\n",
    "#lets see numbers of NaNs in Dependents column\n",
    "print(df_['Dependents'].isnull().sum())\n",
    "print('*'*50)\n",
    "\n",
    "#lets see counts of various catagories in Dependents column\n",
    "print(df_['Dependents'].value_counts()) #can only be used on a column\n"
   ]
  },
  {
   "cell_type": "code",
   "execution_count": 151,
   "metadata": {},
   "outputs": [
    {
     "name": "stdout",
     "output_type": "stream",
     "text": [
      "650.0\n",
      "9.0\n",
      "                        128       556\n",
      "Loan_ID            LP001469  LP002840\n",
      "Gender                 Male    Female\n",
      "Married                  No        No\n",
      "Dependents                0         0\n",
      "Education          Graduate  Graduate\n",
      "Self_Employed           Yes        No\n",
      "ApplicantIncome       20166      2378\n",
      "CoapplicantIncome         0         0\n",
      "LoanAmount              650         9\n",
      "Loan_Amount_Term        480       360\n",
      "Credit_History          NaN         1\n",
      "Property_Area         Urban     Urban\n",
      "Loan_Status               Y         N\n"
     ]
    }
   ],
   "source": [
    "#lets see what is the index of highest loan amount\n",
    "max_loan_idx = df_['LoanAmount'].idxmax()\n",
    "max_loan = np.max(df_['LoanAmount']) #similarly mean and std\n",
    "print(max_loan)\n",
    "#index of minimum loan amount\n",
    "min_loan_idx = df_['LoanAmount'].idxmin()\n",
    "min_loan = np.min(df_['LoanAmount'])\n",
    "print(min_loan)\n",
    "#lets see details of max and min loan amount\n",
    "print((df_.iloc[[max_loan_idx,min_loan_idx],:]).T)\n"
   ]
  },
  {
   "cell_type": "code",
   "execution_count": 50,
   "metadata": {},
   "outputs": [
    {
     "data": {
      "text/plain": [
       "Loan_ID               0\n",
       "Gender               11\n",
       "Married               3\n",
       "Dependents           15\n",
       "Education             0\n",
       "Self_Employed        30\n",
       "ApplicantIncome       0\n",
       "CoapplicantIncome     0\n",
       "LoanAmount           22\n",
       "Loan_Amount_Term     14\n",
       "Credit_History       49\n",
       "Property_Area         0\n",
       "Loan_Status           0\n",
       "dtype: int64"
      ]
     },
     "execution_count": 50,
     "metadata": {},
     "output_type": "execute_result"
    }
   ],
   "source": [
    "df_.isnull().sum()\n",
    "#number of nulls in each columns"
   ]
  },
  {
   "cell_type": "code",
   "execution_count": 131,
   "metadata": {},
   "outputs": [
    {
     "name": "stdout",
     "output_type": "stream",
     "text": [
      "Index(['Loan_ID', 'Gender', 'Married', 'Dependents', 'Education',\n",
      "       'Self_Employed', 'ApplicantIncome', 'CoapplicantIncome', 'LoanAmount',\n",
      "       'Loan_Amount_Term', 'Credit_History', 'Property_Area', 'Loan_Status'],\n",
      "      dtype='object')\n",
      "==================================================\n",
      "    Loan_ID Gender Married Dependents     Education Self_Employed  \\\n",
      "0  LP001002   Male      No          0      Graduate            No   \n",
      "1  LP001003   Male     Yes          1      Graduate            No   \n",
      "2  LP001005   Male     Yes          0      Graduate           Yes   \n",
      "3  LP001006   Male     Yes          0  Not Graduate            No   \n",
      "4  LP001008   Male      No          0      Graduate            No   \n",
      "\n",
      "   ApplicantIncome  CoapplicantIncome  LoanAmount  Loan_Amount_Term  \\\n",
      "0             5849                0.0         NaN             360.0   \n",
      "1             4583             1508.0       128.0             360.0   \n",
      "2             3000                0.0        66.0             360.0   \n",
      "3             2583             2358.0       120.0             360.0   \n",
      "4             6000                0.0       141.0             360.0   \n",
      "\n",
      "   Credit_History Property_Area Loan_Status  \n",
      "0             1.0         Urban           Y  \n",
      "1             1.0         Rural           N  \n",
      "2             1.0         Urban           Y  \n",
      "3             1.0         Urban           Y  \n",
      "4             1.0         Urban           Y  \n"
     ]
    }
   ],
   "source": [
    "#accessing columns\n",
    "columns_ = df_.columns\n",
    "print(columns_)\n",
    "print('='*50)\n",
    "print(df_[:5]) #indexing, top 5 rows\n",
    "\n"
   ]
  },
  {
   "cell_type": "code",
   "execution_count": 65,
   "metadata": {},
   "outputs": [
    {
     "name": "stdout",
     "output_type": "stream",
     "text": [
      "0    LP001002\n",
      "1    LP001003\n",
      "2    LP001005\n",
      "3    LP001006\n",
      "4    LP001008\n",
      "5    LP001011\n",
      "Name: Loan_ID, dtype: object\n",
      "==================================================\n",
      "object\n",
      "==================================================\n",
      "<class 'pandas.core.series.Series'>\n"
     ]
    }
   ],
   "source": [
    "#accessing data frame columns by labels\n",
    "print(df_['Loan_ID'].head(6))\n",
    "print('='*50)\n",
    "#data type of column elements\n",
    "print(df_['Loan_ID'].dtype)\n",
    "print('='*50)\n",
    "print(type(df_['Loan_ID']))"
   ]
  },
  {
   "cell_type": "code",
   "execution_count": 77,
   "metadata": {},
   "outputs": [
    {
     "name": "stdout",
     "output_type": "stream",
     "text": [
      "Index(['Loan_ID', 'Gender', 'Married', 'Dependents', 'Education',\n",
      "       'Self_Employed', 'ApplicantIncome', 'CoapplicantIncome', 'LoanAmount',\n",
      "       'Loan_Amount_Term', 'Credit_History', 'Property_Area', 'Loan_Status'],\n",
      "      dtype='object')\n",
      "Index(['Loan_ID', 'Gender', 'Married', 'Dependents', 'Education',\n",
      "       'Self_Employed', 'ApplicantIncome', 'CoapplicantIncome', 'LoanAmount',\n",
      "       'Loan_Amount_Term', 'Credit_History', 'Property_Area', 'Loan_Status',\n",
      "       'Emi'],\n",
      "      dtype='object')\n",
      "==================================================\n",
      "Index(['Loan_ID', 'Gender', 'Married', 'Dependents', 'Education',\n",
      "       'Self_Employed', 'ApplicantIncome', 'CoapplicantIncome', 'LoanAmount',\n",
      "       'Loan_Amount_Term', 'Credit_History', 'Property_Area', 'Loan_Status'],\n",
      "      dtype='object')\n"
     ]
    }
   ],
   "source": [
    "#creating new columns in data frame\n",
    "#making deep copy of data frame by .copy()\n",
    "df1_ = df_.copy()\n",
    "print(df1_.columns)\n",
    "df1_['Emi'] = df1_['LoanAmount']/df1_['Loan_Amount_Term']\n",
    "print(df1_.columns) #see new columns 'Emi' was created\n",
    "#lets drop the columns we just created\n",
    "print('='*50)\n",
    "df1_.drop('Emi',axis=1,inplace=True) \n",
    "#axis=1 to drop columns, inplace=True to save permenently\n",
    "print(df1_.columns)"
   ]
  },
  {
   "cell_type": "code",
   "execution_count": 135,
   "metadata": {},
   "outputs": [
    {
     "name": "stdout",
     "output_type": "stream",
     "text": [
      "**************************************************\n",
      "    Loan_ID Gender Married Dependents     Education\n",
      "0  LP001002   Male      No          0      Graduate\n",
      "1  LP001003   Male     Yes          1      Graduate\n",
      "2  LP001005   Male     Yes          0      Graduate\n",
      "3  LP001006   Male     Yes          0  Not Graduate\n",
      "4  LP001008   Male      No          0      Graduate\n",
      "**************************************************\n",
      "    Loan_ID Gender\n",
      "0  LP001002   Male\n",
      "1  LP001003   Male\n"
     ]
    }
   ],
   "source": [
    "#index based slicing .iloc \n",
    "print('*'*50)\n",
    "print(df_.iloc[:5,:5])\n",
    "print('*'*50)\n",
    "#label based slicing\n",
    "print(df_.loc[:1,['Loan_ID','Gender']])\n"
   ]
  },
  {
   "cell_type": "code",
   "execution_count": 109,
   "metadata": {},
   "outputs": [
    {
     "name": "stdout",
     "output_type": "stream",
     "text": [
      "   A  B\n",
      "a  1  2\n",
      "b  3  4\n",
      "==================================================\n",
      "   First  Second\n",
      "a      1       2\n",
      "b      3       4\n",
      "==================================================\n",
      "   First  Second ind_col\n",
      "a      1       2      r1\n",
      "b      3       4      r2\n",
      "==================================================\n",
      "         First  Second\n",
      "ind_col               \n",
      "r1           1       2\n",
      "r2           3       4\n"
     ]
    }
   ],
   "source": [
    "df3_ = pd.DataFrame([[1,2],[3,4]],columns=['A','B'],index=['a','b'])\n",
    "print(df3_)\n",
    "print('='*50)\n",
    "#renaming column labels\n",
    "df3_.rename(columns={'A':'First','B':'Second'},inplace=True)\n",
    "print(df3_)\n",
    "print('='*50)\n",
    "df3_['ind_col'] = np.array(['r1','r2'],dtype='object')\n",
    "print(df3_)\n",
    "print('='*50)\n",
    "#setting index to \n",
    "df3_.set_index('ind_col',inplace=True)\n",
    "print(df3_)\n"
   ]
  },
  {
   "cell_type": "code",
   "execution_count": 153,
   "metadata": {},
   "outputs": [
    {
     "name": "stdout",
     "output_type": "stream",
     "text": [
      "600\n",
      "600\n"
     ]
    }
   ],
   "source": [
    "print(df_.shape[0])\n",
    "print(df_.index.notnull().sum()) #this can be used to drop null indexes\n",
    "#df_.index = df_.index.str.lower() to convert string indexes to lower\n"
   ]
  },
  {
   "cell_type": "code",
   "execution_count": 22,
   "metadata": {},
   "outputs": [
    {
     "name": "stdout",
     "output_type": "stream",
     "text": [
      "    Loan_ID Gender Married Dependents     Education Self_Employed  \\\n",
      "0  LP001002   Male      No          0      Graduate            No   \n",
      "1  LP001003   Male     Yes          1      Graduate            No   \n",
      "2  LP001005   Male     Yes          0      Graduate           Yes   \n",
      "3  LP001006   Male     Yes          0  Not Graduate            No   \n",
      "4  LP001008   Male      No          0      Graduate            No   \n",
      "\n",
      "   ApplicantIncome  CoapplicantIncome  LoanAmount  Loan_Amount_Term  \\\n",
      "0             5849                0.0         NaN             360.0   \n",
      "1             4583             1508.0       128.0             360.0   \n",
      "2             3000                0.0        66.0             360.0   \n",
      "3             2583             2358.0       120.0             360.0   \n",
      "4             6000                0.0       141.0             360.0   \n",
      "\n",
      "   Credit_History Property_Area Loan_Status  \n",
      "0             1.0         Urban           Y  \n",
      "1             1.0         Rural           N  \n",
      "2             1.0         Urban           Y  \n",
      "3             1.0         Urban           Y  \n",
      "4             1.0         Urban           Y  \n",
      "==================================================\n",
      "    Loan_ID Gender Married Dependents     Education Self_Employed  \\\n",
      "0  LP001002   Male      No          0      Graduate            No   \n",
      "2  LP001005   Male     Yes          0      Graduate           Yes   \n",
      "3  LP001006   Male     Yes          0  Not Graduate            No   \n",
      "4  LP001008   Male      No          0      Graduate            No   \n",
      "5  LP001011   Male     Yes          2      Graduate           Yes   \n",
      "\n",
      "   ApplicantIncome  CoapplicantIncome  LoanAmount  Loan_Amount_Term  \\\n",
      "0             5849                0.0         NaN             360.0   \n",
      "2             3000                0.0        66.0             360.0   \n",
      "3             2583             2358.0       120.0             360.0   \n",
      "4             6000                0.0       141.0             360.0   \n",
      "5             5417             4196.0       267.0             360.0   \n",
      "\n",
      "   Credit_History Property_Area Loan_Status  \n",
      "0             1.0         Urban           Y  \n",
      "2             1.0         Urban           Y  \n",
      "3             1.0         Urban           Y  \n",
      "4             1.0         Urban           Y  \n",
      "5             1.0         Urban           Y  \n"
     ]
    }
   ],
   "source": [
    "#Filtering data frames based on condition gender=male\n",
    "df4_ = df_[df_['Gender']=='Male']\n",
    "print(df4_.head())\n",
    "print('='*50)\n",
    "\n",
    "#filtering based on gender = male and Loan_Status = Y\n",
    "df4_ = df_[(df_['Gender']=='Male') & (df_['Loan_Status']=='Y')]\n",
    "print(df4_.head())\n",
    "\n"
   ]
  },
  {
   "cell_type": "code",
   "execution_count": 23,
   "metadata": {},
   "outputs": [
    {
     "name": "stdout",
     "output_type": "stream",
     "text": [
      "    Loan_ID Gender Married Dependents     Education Self_Employed  \\\n",
      "0  LP001002   male      No          0      Graduate            No   \n",
      "2  LP001005   male     Yes          0      Graduate           Yes   \n",
      "3  LP001006   male     Yes          0  Not Graduate            No   \n",
      "4  LP001008   male      No          0      Graduate            No   \n",
      "5  LP001011   male     Yes          2      Graduate           Yes   \n",
      "\n",
      "   ApplicantIncome  CoapplicantIncome  LoanAmount  Loan_Amount_Term  \\\n",
      "0             5849                0.0         NaN             360.0   \n",
      "2             3000                0.0        66.0             360.0   \n",
      "3             2583             2358.0       120.0             360.0   \n",
      "4             6000                0.0       141.0             360.0   \n",
      "5             5417             4196.0       267.0             360.0   \n",
      "\n",
      "   Credit_History Property_Area Loan_Status  \n",
      "0             1.0         Urban           Y  \n",
      "2             1.0         Urban           Y  \n",
      "3             1.0         Urban           Y  \n",
      "4             1.0         Urban           Y  \n",
      "5             1.0         Urban           Y  \n"
     ]
    },
    {
     "name": "stderr",
     "output_type": "stream",
     "text": [
      "C:\\Users\\Jayesh\\Anaconda3\\lib\\site-packages\\ipykernel_launcher.py:1: SettingWithCopyWarning: \n",
      "A value is trying to be set on a copy of a slice from a DataFrame.\n",
      "Try using .loc[row_indexer,col_indexer] = value instead\n",
      "\n",
      "See the caveats in the documentation: http://pandas.pydata.org/pandas-docs/stable/indexing.html#indexing-view-versus-copy\n",
      "  \"\"\"Entry point for launching an IPython kernel.\n"
     ]
    }
   ],
   "source": [
    "#.apply() method to perform some operation on every element of a column\n",
    "df4_['Gender'] =df4_['Gender'].apply(lambda x:x.lower() if isinstance(x,str) else None)\n",
    "print(df4_.head())"
   ]
  },
  {
   "cell_type": "code",
   "execution_count": 30,
   "metadata": {},
   "outputs": [
    {
     "name": "stdout",
     "output_type": "stream",
     "text": [
      "          Speed\n",
      "Type 1         \n",
      "Fairy      45.0\n",
      "Rock       50.0\n",
      "Steel      50.0\n",
      "Grass      58.5\n",
      "Bug        60.0\n",
      "Fighting   60.0\n",
      "Ghost      60.5\n",
      "Ice        62.0\n",
      "Poison     62.5\n",
      "Ground     65.0\n",
      "Water      65.0\n",
      "Dark       70.0\n",
      "Normal     71.0\n",
      "Fire       78.5\n",
      "Psychic    80.0\n",
      "Electric   88.0\n",
      "Dragon     90.0\n",
      "Flying    116.0\n"
     ]
    }
   ],
   "source": [
    "pok_df = pd.read_csv('./data/pokemon.csv')\n",
    "type1 = pok_df.groupby('Type 1')[['Speed']].median().sort_values(by='Speed')\n",
    "print(type1)\n"
   ]
  },
  {
   "cell_type": "code",
   "execution_count": 31,
   "metadata": {},
   "outputs": [
    {
     "name": "stdout",
     "output_type": "stream",
     "text": [
      "                     Speed  Sp. Atk\n",
      "Type 2   Generation                \n",
      "Bug      3            60.0     55.0\n",
      "         4            65.0     30.0\n",
      "Dark     1            81.0     70.0\n",
      "         2            66.0     95.0\n",
      "         3            65.0     90.0\n",
      "         4            79.0     65.5\n",
      "         5            74.0     45.0\n",
      "         6            80.0    103.0\n",
      "Dragon   1           100.0    130.0\n",
      "         2            65.0    130.0\n",
      "         3           100.0     80.0\n",
      "         4            90.0    135.0\n",
      "         5            58.0     65.0\n",
      "         6            55.0     69.0\n",
      "Electric 2            67.0     66.0\n",
      "         5            77.5     89.0\n",
      "Fairy    1            45.0     85.0\n",
      "         2            40.0     40.0\n",
      "         3            50.0     60.0\n",
      "         4            60.0     70.0\n",
      "         5            66.0     77.0\n",
      "         6            75.0     81.0\n",
      "Fighting 1           100.0    112.0\n",
      "         2            80.0     40.0\n",
      "         3            75.0     97.5\n",
      "         4            85.0     65.0\n",
      "         5           108.0     83.5\n",
      "         6            64.0     74.0\n",
      "Fire     2            95.0    110.0\n",
      "         3            90.0    150.0\n",
      "...                    ...      ...\n",
      "Ice      1            70.0     85.0\n",
      "         2           115.0     35.0\n",
      "         4            60.0     92.0\n",
      "         5            95.0    130.0\n",
      "         6            52.0     83.0\n",
      "Normal   6            89.0     91.0\n",
      "Poison   1            70.0     82.5\n",
      "         2            40.0     55.0\n",
      "         3            65.0     75.0\n",
      "         4            72.5     87.5\n",
      "         5            47.0     55.0\n",
      "Psychic  1            40.0    100.0\n",
      "         2            65.0     90.0\n",
      "         3            77.5     87.5\n",
      "         4            28.0     51.5\n",
      "         5            72.5    134.0\n",
      "         6            73.0     68.0\n",
      "Rock     1            32.5     37.5\n",
      "         2            30.0     65.0\n",
      "         3            45.0     47.5\n",
      "         4            40.0     55.0\n",
      "         5            38.5     59.0\n",
      "Steel    1            57.5    107.5\n",
      "         2            65.0     60.0\n",
      "         4            60.0    111.0\n",
      "         5            65.0     52.0\n",
      "Water    1            55.0     77.5\n",
      "         3            55.0     65.0\n",
      "         4            78.5     80.0\n",
      "         6            59.0     57.0\n",
      "\n",
      "[84 rows x 2 columns]\n"
     ]
    }
   ],
   "source": [
    "type2 = pok_df.groupby(['Type 2','Generation']).agg({'Speed':'median','Sp. Atk':'median'})\n",
    "print(type2)"
   ]
  },
  {
   "cell_type": "code",
   "execution_count": 34,
   "metadata": {},
   "outputs": [
    {
     "name": "stdout",
     "output_type": "stream",
     "text": [
      "Generation           1           2           3           4          5  \\\n",
      "Type 2                                                                  \n",
      "Bug                NaN         NaN   60.000000   65.000000        NaN   \n",
      "Dark         81.000000   66.000000   73.571429   72.000000  77.000000   \n",
      "Dragon      100.000000   65.000000  105.000000   92.500000  64.666667   \n",
      "Electric           NaN   67.000000         NaN         NaN  73.750000   \n",
      "Fairy        51.666667   35.000000   58.750000   60.000000  77.333333   \n",
      "Fighting    100.000000   80.000000   76.250000   92.714286  89.400000   \n",
      "Fire               NaN   91.666667   90.000000   86.000000  72.142857   \n",
      "Flying       91.086957   80.052632   89.714286   78.812500  84.421053   \n",
      "Ghost              NaN         NaN   36.666667  100.500000  47.500000   \n",
      "Grass        27.500000  100.000000   43.200000   61.000000  69.200000   \n",
      "Ground       55.166667   37.750000   48.333333   66.125000  71.500000   \n",
      "Ice          66.666667  115.000000         NaN   68.200000  95.000000   \n",
      "Normal             NaN         NaN         NaN         NaN        NaN   \n",
      "Poison       71.590909   51.666667   65.000000   72.500000  52.200000   \n",
      "Psychic      54.285714   60.000000   81.875000   28.000000  72.500000   \n",
      "Rock         32.500000   23.333333   43.750000   40.000000  38.500000   \n",
      "Steel        57.500000   60.000000         NaN   59.444444  59.500000   \n",
      "Water        56.250000         NaN   50.000000   78.500000        NaN   \n",
      "\n",
      "Generation          6  \n",
      "Type 2                 \n",
      "Bug               NaN  \n",
      "Dark        86.666667  \n",
      "Dragon      68.200000  \n",
      "Electric          NaN  \n",
      "Fairy       77.200000  \n",
      "Fighting    64.000000  \n",
      "Fire              NaN  \n",
      "Flying      96.333333  \n",
      "Ghost       50.600000  \n",
      "Grass       59.400000  \n",
      "Ground      86.500000  \n",
      "Ice         52.000000  \n",
      "Normal      89.250000  \n",
      "Poison            NaN  \n",
      "Psychic     74.000000  \n",
      "Rock              NaN  \n",
      "Steel             NaN  \n",
      "Water       54.500000  \n"
     ]
    }
   ],
   "source": [
    "#instead of reading the results in above format we can use pivot tables\n",
    "piv_ = pd.pivot_table(pok_df,index='Type 2',columns='Generation', values='Speed')\n",
    "#aggfunc=mean bydefault in pivot table\n",
    "print(piv_)"
   ]
  },
  {
   "cell_type": "code",
   "execution_count": 37,
   "metadata": {},
   "outputs": [
    {
     "data": {
      "text/html": [
       "<div>\n",
       "<style scoped>\n",
       "    .dataframe tbody tr th:only-of-type {\n",
       "        vertical-align: middle;\n",
       "    }\n",
       "\n",
       "    .dataframe tbody tr th {\n",
       "        vertical-align: top;\n",
       "    }\n",
       "\n",
       "    .dataframe thead th {\n",
       "        text-align: right;\n",
       "    }\n",
       "</style>\n",
       "<table border=\"1\" class=\"dataframe\">\n",
       "  <thead>\n",
       "    <tr style=\"text-align: right;\">\n",
       "      <th></th>\n",
       "      <th>fruit</th>\n",
       "      <th>weight</th>\n",
       "      <th>price_left</th>\n",
       "      <th>product</th>\n",
       "      <th>kilo</th>\n",
       "      <th>price_right</th>\n",
       "    </tr>\n",
       "  </thead>\n",
       "  <tbody>\n",
       "    <tr>\n",
       "      <th>0</th>\n",
       "      <td>apple</td>\n",
       "      <td>high</td>\n",
       "      <td>5</td>\n",
       "      <td>apple</td>\n",
       "      <td>high</td>\n",
       "      <td>13</td>\n",
       "    </tr>\n",
       "    <tr>\n",
       "      <th>1</th>\n",
       "      <td>apple</td>\n",
       "      <td>high</td>\n",
       "      <td>6</td>\n",
       "      <td>apple</td>\n",
       "      <td>high</td>\n",
       "      <td>13</td>\n",
       "    </tr>\n",
       "    <tr>\n",
       "      <th>2</th>\n",
       "      <td>apple</td>\n",
       "      <td>high</td>\n",
       "      <td>9</td>\n",
       "      <td>apple</td>\n",
       "      <td>high</td>\n",
       "      <td>13</td>\n",
       "    </tr>\n",
       "    <tr>\n",
       "      <th>3</th>\n",
       "      <td>orange</td>\n",
       "      <td>low</td>\n",
       "      <td>10</td>\n",
       "      <td>orange</td>\n",
       "      <td>low</td>\n",
       "      <td>5</td>\n",
       "    </tr>\n",
       "    <tr>\n",
       "      <th>4</th>\n",
       "      <td>orange</td>\n",
       "      <td>low</td>\n",
       "      <td>13</td>\n",
       "      <td>orange</td>\n",
       "      <td>low</td>\n",
       "      <td>5</td>\n",
       "    </tr>\n",
       "    <tr>\n",
       "      <th>5</th>\n",
       "      <td>orange</td>\n",
       "      <td>low</td>\n",
       "      <td>10</td>\n",
       "      <td>orange</td>\n",
       "      <td>low</td>\n",
       "      <td>5</td>\n",
       "    </tr>\n",
       "  </tbody>\n",
       "</table>\n",
       "</div>"
      ],
      "text/plain": [
       "    fruit weight  price_left product  kilo  price_right\n",
       "0   apple   high           5   apple  high           13\n",
       "1   apple   high           6   apple  high           13\n",
       "2   apple   high           9   apple  high           13\n",
       "3  orange    low          10  orange   low            5\n",
       "4  orange    low          13  orange   low            5\n",
       "5  orange    low          10  orange   low            5"
      ]
     },
     "execution_count": 37,
     "metadata": {},
     "output_type": "execute_result"
    }
   ],
   "source": [
    "import numpy as np\n",
    "df1 = pd.DataFrame({'fruit': ['apple', 'banana', 'orange'] * 3,\n",
    "                    'weight': ['high', 'medium', 'low'] * 3,\n",
    "                    'price': np.random.randint(0, 15, 9)})\n",
    "\n",
    "df2 = pd.DataFrame({'product': ['apple', 'orange', 'pine'] * 2,\n",
    "                    'kilo': ['high', 'low'] * 3,\n",
    "                    'price': np.random.randint(0, 15, 6)})\n",
    "\n",
    "merged1 = pd.merge(left= df1, right=df2, left_on= ['fruit', 'weight'],right_on= ['product', 'kilo'],\n",
    "         how='inner', suffixes = ['_left','_right'])\n",
    "merged1"
   ]
  },
  {
   "cell_type": "code",
   "execution_count": 47,
   "metadata": {},
   "outputs": [
    {
     "data": {
      "text/html": [
       "<div>\n",
       "<style scoped>\n",
       "    .dataframe tbody tr th:only-of-type {\n",
       "        vertical-align: middle;\n",
       "    }\n",
       "\n",
       "    .dataframe tbody tr th {\n",
       "        vertical-align: top;\n",
       "    }\n",
       "\n",
       "    .dataframe thead th {\n",
       "        text-align: right;\n",
       "    }\n",
       "</style>\n",
       "<table border=\"1\" class=\"dataframe\">\n",
       "  <thead>\n",
       "    <tr style=\"text-align: right;\">\n",
       "      <th></th>\n",
       "      <th>fruit</th>\n",
       "      <th>weight</th>\n",
       "      <th>price_left</th>\n",
       "      <th>price_right</th>\n",
       "      <th>_merge</th>\n",
       "    </tr>\n",
       "  </thead>\n",
       "  <tbody>\n",
       "    <tr>\n",
       "      <th>0</th>\n",
       "      <td>apple</td>\n",
       "      <td>high</td>\n",
       "      <td>0</td>\n",
       "      <td>3</td>\n",
       "      <td>both</td>\n",
       "    </tr>\n",
       "    <tr>\n",
       "      <th>1</th>\n",
       "      <td>apple</td>\n",
       "      <td>high</td>\n",
       "      <td>6</td>\n",
       "      <td>3</td>\n",
       "      <td>both</td>\n",
       "    </tr>\n",
       "    <tr>\n",
       "      <th>2</th>\n",
       "      <td>apple</td>\n",
       "      <td>high</td>\n",
       "      <td>2</td>\n",
       "      <td>3</td>\n",
       "      <td>both</td>\n",
       "    </tr>\n",
       "    <tr>\n",
       "      <th>3</th>\n",
       "      <td>orange</td>\n",
       "      <td>low</td>\n",
       "      <td>9</td>\n",
       "      <td>11</td>\n",
       "      <td>both</td>\n",
       "    </tr>\n",
       "    <tr>\n",
       "      <th>4</th>\n",
       "      <td>orange</td>\n",
       "      <td>low</td>\n",
       "      <td>4</td>\n",
       "      <td>11</td>\n",
       "      <td>both</td>\n",
       "    </tr>\n",
       "    <tr>\n",
       "      <th>5</th>\n",
       "      <td>orange</td>\n",
       "      <td>low</td>\n",
       "      <td>5</td>\n",
       "      <td>11</td>\n",
       "      <td>both</td>\n",
       "    </tr>\n",
       "  </tbody>\n",
       "</table>\n",
       "</div>"
      ],
      "text/plain": [
       "    fruit weight  price_left  price_right _merge\n",
       "0   apple   high           0            3   both\n",
       "1   apple   high           6            3   both\n",
       "2   apple   high           2            3   both\n",
       "3  orange    low           9           11   both\n",
       "4  orange    low           4           11   both\n",
       "5  orange    low           5           11   both"
      ]
     },
     "execution_count": 47,
     "metadata": {},
     "output_type": "execute_result"
    }
   ],
   "source": [
    "df3 = pd.DataFrame({'fruit': ['apple', 'banana', 'orange'] * 3,\n",
    "                    'weight': ['high', 'medium', 'low'] * 3,\n",
    "                    'price': np.random.randint(0, 15, 9)})\n",
    "\n",
    "df4 = pd.DataFrame({'fruit': ['apple', 'orange', 'pine'] * 2,\n",
    "                    'weight': ['high', 'low'] * 3,\n",
    "                    'price': np.random.randint(0, 15, 6)})\n",
    "\n",
    "# Code starts here\n",
    "merged = pd.merge(left= df3, right=df4, on= ['fruit','weight'],\n",
    "         how='inner', suffixes = ['_left','_right'],indicator=True) \n",
    "#_merge tracks data source \n",
    "merged"
   ]
  },
  {
   "cell_type": "code",
   "execution_count": 29,
   "metadata": {},
   "outputs": [
    {
     "data": {
      "text/html": [
       "<div>\n",
       "<style scoped>\n",
       "    .dataframe tbody tr th:only-of-type {\n",
       "        vertical-align: middle;\n",
       "    }\n",
       "\n",
       "    .dataframe tbody tr th {\n",
       "        vertical-align: top;\n",
       "    }\n",
       "\n",
       "    .dataframe thead th {\n",
       "        text-align: right;\n",
       "    }\n",
       "</style>\n",
       "<table border=\"1\" class=\"dataframe\">\n",
       "  <thead>\n",
       "    <tr style=\"text-align: right;\">\n",
       "      <th></th>\n",
       "      <th></th>\n",
       "      <th>George Clooney</th>\n",
       "      <th>Bradd Pitt</th>\n",
       "      <th>Leonardo Dicaprio</th>\n",
       "    </tr>\n",
       "  </thead>\n",
       "  <tbody>\n",
       "    <tr>\n",
       "      <th rowspan=\"3\" valign=\"top\">Jan</th>\n",
       "      <th>2016</th>\n",
       "      <td>1</td>\n",
       "      <td>2</td>\n",
       "      <td>3</td>\n",
       "    </tr>\n",
       "    <tr>\n",
       "      <th>2017</th>\n",
       "      <td>3</td>\n",
       "      <td>4</td>\n",
       "      <td>5</td>\n",
       "    </tr>\n",
       "    <tr>\n",
       "      <th>2018</th>\n",
       "      <td>4</td>\n",
       "      <td>5</td>\n",
       "      <td>6</td>\n",
       "    </tr>\n",
       "    <tr>\n",
       "      <th rowspan=\"3\" valign=\"top\">Feb</th>\n",
       "      <th>2016</th>\n",
       "      <td>1</td>\n",
       "      <td>2</td>\n",
       "      <td>3</td>\n",
       "    </tr>\n",
       "    <tr>\n",
       "      <th>2017</th>\n",
       "      <td>3</td>\n",
       "      <td>4</td>\n",
       "      <td>5</td>\n",
       "    </tr>\n",
       "    <tr>\n",
       "      <th>2018</th>\n",
       "      <td>4</td>\n",
       "      <td>5</td>\n",
       "      <td>6</td>\n",
       "    </tr>\n",
       "  </tbody>\n",
       "</table>\n",
       "</div>"
      ],
      "text/plain": [
       "          George Clooney  Bradd Pitt  Leonardo Dicaprio\n",
       "Jan 2016               1           2                  3\n",
       "    2017               3           4                  5\n",
       "    2018               4           5                  6\n",
       "Feb 2016               1           2                  3\n",
       "    2017               3           4                  5\n",
       "    2018               4           5                  6"
      ]
     },
     "execution_count": 29,
     "metadata": {},
     "output_type": "execute_result"
    }
   ],
   "source": [
    "#Pandas support multilevel indexing also called hierarchical indexing, which allows efficient selection of subsets of a dataframe\n",
    "outer_level = ['Jan']*3 + ['Feb']*3\n",
    "inner_level = ['2016', '2017', '2018']*2\n",
    "hier_index = list(zip(outer_level, inner_level))\n",
    "hier_index = pd.MultiIndex.from_tuples(hier_index) #get multi-index from list of tuples\n",
    "df3 = pd.DataFrame([[1,2,3],[3,4,5], [4,5,6],[1,2,3],[3,4,5], [4,5,6]], index=hier_index, columns=['George Clooney', 'Bradd Pitt', 'Leonardo Dicaprio'])\n",
    "df3"
   ]
  },
  {
   "cell_type": "code",
   "execution_count": null,
   "metadata": {},
   "outputs": [],
   "source": []
  }
 ],
 "metadata": {
  "kernelspec": {
   "display_name": "Python 3",
   "language": "python",
   "name": "python3"
  },
  "language_info": {
   "codemirror_mode": {
    "name": "ipython",
    "version": 3
   },
   "file_extension": ".py",
   "mimetype": "text/x-python",
   "name": "python",
   "nbconvert_exporter": "python",
   "pygments_lexer": "ipython3",
   "version": "3.6.5"
  }
 },
 "nbformat": 4,
 "nbformat_minor": 2
}
