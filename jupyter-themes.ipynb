{
 "cells": [
  {
   "cell_type": "code",
   "execution_count": 2,
   "metadata": {
    "slideshow": {
     "slide_type": "slide"
    }
   },
   "outputs": [
    {
     "name": "stdout",
     "output_type": "stream",
     "text": [
      " Volume in drive C has no label.\n",
      " Volume Serial Number is C830-1C6A\n",
      "\n",
      " Directory of C:\\Users\\Jayesh\\Jupyter Notebooks\n",
      "\n",
      "28-12-2018  19:58    <DIR>          .\n",
      "28-12-2018  19:58    <DIR>          ..\n",
      "28-12-2018  19:58    <DIR>          .ipynb_checkpoints\n",
      "15-10-2018  08:05            10,576 Untitled.ipynb\n",
      "22-10-2018  07:52             1,901 Untitled1.ipynb\n",
      "27-10-2018  13:10             3,710 Untitled2.ipynb\n",
      "05-11-2018  07:52             2,052 Untitled3-Copy1.ipynb\n",
      "05-11-2018  08:41             9,545 Untitled3.ipynb\n",
      "16-11-2018  17:21             3,093 Untitled4.ipynb\n",
      "17-11-2018  14:50           252,436 Untitled5.ipynb\n",
      "17-11-2018  23:50               555 Untitled6.ipynb\n",
      "21-11-2018  15:15             1,057 Untitled7.ipynb\n",
      "18-12-2018  22:21               777 Untitled8.ipynb\n",
      "28-12-2018  19:58                72 Untitled9.ipynb\n",
      "              11 File(s)        285,774 bytes\n",
      "               3 Dir(s)  240,704,385,024 bytes free\n"
     ]
    }
   ],
   "source": [
    "!dir"
   ]
  },
  {
   "cell_type": "code",
   "execution_count": 3,
   "metadata": {},
   "outputs": [
    {
     "name": "stdout",
     "output_type": "stream",
     "text": [
      "\n",
      "The following command must be run outside of the IPython shell:\n",
      "\n",
      "    $ pip install jupyterthemes\n",
      "\n",
      "The Python package manager (pip) can only be used from outside of IPython.\n",
      "Please reissue the `pip` command in a separate terminal or command prompt.\n",
      "\n",
      "See the Python documentation for more information on how to install packages:\n",
      "\n",
      "    https://docs.python.org/3/installing/\n"
     ]
    }
   ],
   "source": [
    "pip install jupyterthemes"
   ]
  },
  {
   "cell_type": "code",
   "execution_count": 6,
   "metadata": {},
   "outputs": [
    {
     "name": "stdout",
     "output_type": "stream",
     "text": [
      "Available Themes: \n",
      "   chesterish\n",
      "   grade3\n",
      "   gruvboxd\n",
      "   gruvboxl\n",
      "   monokai\n",
      "   oceans16\n",
      "   onedork\n",
      "   solarizedd\n",
      "   solarizedl\n"
     ]
    }
   ],
   "source": [
    "!jt -l\n"
   ]
  },
  {
   "cell_type": "code",
   "execution_count": 10,
   "metadata": {},
   "outputs": [],
   "source": [
    "!jt -t onedork"
   ]
  },
  {
   "cell_type": "code",
   "execution_count": null,
   "metadata": {},
   "outputs": [],
   "source": []
  }
 ],
 "metadata": {
  "celltoolbar": "Slideshow",
  "kernelspec": {
   "display_name": "Python 3",
   "language": "python",
   "name": "python3"
  },
  "language_info": {
   "codemirror_mode": {
    "name": "ipython",
    "version": 3
   },
   "file_extension": ".py",
   "mimetype": "text/x-python",
   "name": "python",
   "nbconvert_exporter": "python",
   "pygments_lexer": "ipython3",
   "version": "3.6.5"
  }
 },
 "nbformat": 4,
 "nbformat_minor": 2
}
